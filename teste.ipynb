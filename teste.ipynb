{
 "cells": [
  {
   "cell_type": "code",
   "execution_count": 1,
   "metadata": {},
   "outputs": [],
   "source": [
    "import ontology.Schema as sc\n",
    "import spacy\n",
    "import qai.QAI_Manager as q\n",
    "import os\n",
    "import pickle"
   ]
  },
  {
   "cell_type": "code",
   "execution_count": 2,
   "metadata": {},
   "outputs": [],
   "source": [
    "ontology_path = \"input/medibot/ontology.ttl\"\n",
    "schema = sc.getGraph(ontology_path)\n",
    "classes_index = sc.load_classes_index(schema)\n",
    "properties_index = sc.load_properties_index(schema)"
   ]
  },
  {
   "cell_type": "code",
   "execution_count": 3,
   "metadata": {},
   "outputs": [],
   "source": [
    "from parrot import Parrot\n",
    "import torch\n",
    "import warnings\n",
    "warnings.filterwarnings(\"ignore\")"
   ]
  },
  {
   "cell_type": "code",
   "execution_count": 4,
   "metadata": {},
   "outputs": [],
   "source": [
    "def random_state(seed):\n",
    "  torch.manual_seed(seed)\n",
    "  if torch.cuda.is_available():\n",
    "    torch.cuda.manual_seed_all(seed)"
   ]
  },
  {
   "cell_type": "code",
   "execution_count": 5,
   "metadata": {},
   "outputs": [],
   "source": [
    "random_state(1234)"
   ]
  },
  {
   "cell_type": "code",
   "execution_count": 6,
   "metadata": {},
   "outputs": [],
   "source": [
    "parrot = Parrot(model_tag=\"prithivida/parrot_paraphraser_on_T5\", use_gpu=False)"
   ]
  },
  {
   "cell_type": "code",
   "execution_count": 7,
   "metadata": {},
   "outputs": [],
   "source": [
    "inputs = ['what is the highest price for the drug buscopan?']"
   ]
  },
  {
   "cell_type": "code",
   "execution_count": 8,
   "metadata": {},
   "outputs": [],
   "source": [
    "paraphrases = set()"
   ]
  },
  {
   "cell_type": "code",
   "execution_count": 9,
   "metadata": {},
   "outputs": [
    {
     "name": "stdout",
     "output_type": "stream",
     "text": [
      "----------------------------------------------------------------------------------------------------\n",
      "Input_phrase:  what is the highest price for the drug buscopan?\n",
      "----------------------------------------------------------------------------------------------------\n",
      "('tell me the best price for buscopan?', 30)\n",
      "('tell me the highest price for buscopan?', 26)\n",
      "(\"what's the highest price of buscopan?\", 25)\n",
      "(\"what's the biggest price for a buscopan?\", 24)\n"
     ]
    }
   ],
   "source": [
    "for input in inputs:\n",
    "    print(\"-\"*100)\n",
    "    print(\"Input_phrase: \", input)\n",
    "    print(\"-\"*100)\n",
    "    para_phrases = parrot.augment(input_phrase=input,max_return_phrases = 10)\n",
    "    paraphrases.update(para_phrases)\n",
    "    for para_phrase in para_phrases:\n",
    "        print(para_phrase)"
   ]
  },
  {
   "cell_type": "code",
   "execution_count": 10,
   "metadata": {},
   "outputs": [
    {
     "name": "stdout",
     "output_type": "stream",
     "text": [
      "----------------------------------------------------------------------------------------------------\n",
      "Input_phrase:  what is the highest price for the drug buscopan?\n",
      "----------------------------------------------------------------------------------------------------\n",
      "('tell me the highest price for buscopan?', 26)\n",
      "(\"what's the highest price of buscopan?\", 25)\n",
      "(\"what's the highest price for buscopan?\", 23)\n",
      "('what is the highest price for buscopan?', 21)\n"
     ]
    }
   ],
   "source": [
    "for input in inputs:\n",
    "    print(\"-\"*100)\n",
    "    print(\"Input_phrase: \", input)\n",
    "    print(\"-\"*100)\n",
    "    para_phrases = parrot.augment(input_phrase=input,do_diverse=True,max_return_phrases = 10)\n",
    "    paraphrases.update(para_phrases)\n",
    "    for para_phrase in para_phrases:\n",
    "        print(para_phrase)"
   ]
  },
  {
   "cell_type": "code",
   "execution_count": 11,
   "metadata": {},
   "outputs": [
    {
     "data": {
      "text/plain": [
       "{('tell me the best price for buscopan?', 30),\n",
       " ('tell me the highest price for buscopan?', 26),\n",
       " ('what is the highest price for buscopan?', 21),\n",
       " (\"what's the biggest price for a buscopan?\", 24),\n",
       " (\"what's the highest price for buscopan?\", 23),\n",
       " (\"what's the highest price of buscopan?\", 25)}"
      ]
     },
     "execution_count": 11,
     "metadata": {},
     "output_type": "execute_result"
    }
   ],
   "source": [
    "paraphrases"
   ]
  },
  {
   "cell_type": "code",
   "execution_count": 12,
   "metadata": {},
   "outputs": [],
   "source": [
    "from googletrans import Translator"
   ]
  },
  {
   "cell_type": "code",
   "execution_count": 13,
   "metadata": {},
   "outputs": [],
   "source": [
    "translator = Translator()"
   ]
  },
  {
   "cell_type": "code",
   "execution_count": 14,
   "metadata": {},
   "outputs": [],
   "source": [
    "paraphrases_pt= []"
   ]
  },
  {
   "cell_type": "code",
   "execution_count": 15,
   "metadata": {},
   "outputs": [],
   "source": [
    "paraphrases_l= [paraprhase[0] for paraprhase in paraphrases]"
   ]
  },
  {
   "cell_type": "code",
   "execution_count": 16,
   "metadata": {},
   "outputs": [
    {
     "name": "stdout",
     "output_type": "stream",
     "text": [
      "tell me the highest price for buscopan?->Diga -me o preço mais alto para Buscopan?\n",
      "what's the biggest price for a buscopan?->Qual é o maior preço para um Buscopan?\n",
      "what's the highest price for buscopan?->Qual é o preço mais alto para Buscopan?\n",
      "what is the highest price for buscopan?->Qual é o preço mais alto para Buscopan?\n",
      "tell me the best price for buscopan?->Diga -me o melhor preço para Buscopan?\n",
      "what's the highest price of buscopan?->Qual é o preço mais alto de Buscopan?\n"
     ]
    }
   ],
   "source": [
    "for paraphrase in paraphrases_l:\n",
    "    paraphrase_pt = translator.translate(paraphrase, dest='pt')\n",
    "    paraphrases_pt.append(str(paraphrase_pt.text))\n",
    "    print(f'{paraphrase_pt.origin}->{paraphrase_pt.text}')"
   ]
  },
  {
   "cell_type": "code",
   "execution_count": 17,
   "metadata": {},
   "outputs": [
    {
     "data": {
      "text/plain": [
       "['Diga -me o preço mais alto para Buscopan?',\n",
       " 'Qual é o maior preço para um Buscopan?',\n",
       " 'Qual é o preço mais alto para Buscopan?',\n",
       " 'Qual é o preço mais alto para Buscopan?',\n",
       " 'Diga -me o melhor preço para Buscopan?',\n",
       " 'Qual é o preço mais alto de Buscopan?']"
      ]
     },
     "execution_count": 17,
     "metadata": {},
     "output_type": "execute_result"
    }
   ],
   "source": [
    "paraphrases_pt"
   ]
  },
  {
   "cell_type": "code",
   "execution_count": 18,
   "metadata": {},
   "outputs": [],
   "source": [
    "from nltk.corpus import wordnet as wn"
   ]
  },
  {
   "cell_type": "code",
   "execution_count": 19,
   "metadata": {},
   "outputs": [
    {
     "data": {
      "text/plain": [
       "[Synset('drug.n.01')]"
      ]
     },
     "execution_count": 19,
     "metadata": {},
     "output_type": "execute_result"
    }
   ],
   "source": [
    "wn.synsets(\"drugs\",pos=wn.NOUN)"
   ]
  },
  {
   "cell_type": "code",
   "execution_count": 20,
   "metadata": {},
   "outputs": [],
   "source": [
    "synset = wn.synset('drug.n.01')"
   ]
  },
  {
   "cell_type": "code",
   "execution_count": 21,
   "metadata": {},
   "outputs": [
    {
     "data": {
      "text/plain": [
       "'a substance that is used as a medicine or narcotic'"
      ]
     },
     "execution_count": 21,
     "metadata": {},
     "output_type": "execute_result"
    }
   ],
   "source": [
    "synset.definition()"
   ]
  },
  {
   "cell_type": "code",
   "execution_count": 22,
   "metadata": {},
   "outputs": [
    {
     "data": {
      "text/plain": [
       "[Synset('agent.n.03')]"
      ]
     },
     "execution_count": 22,
     "metadata": {},
     "output_type": "execute_result"
    }
   ],
   "source": [
    "synset.hypernyms()"
   ]
  },
  {
   "cell_type": "code",
   "execution_count": 23,
   "metadata": {},
   "outputs": [
    {
     "data": {
      "text/plain": [
       "[Synset('abortifacient.n.01'),\n",
       " Synset('agonist.n.04'),\n",
       " Synset('anesthetic.n.01'),\n",
       " Synset('antagonist.n.03'),\n",
       " Synset('anti-tnf_compound.n.01'),\n",
       " Synset('antisyphilitic.n.01'),\n",
       " Synset('arsenical.n.01'),\n",
       " Synset('botanical.n.01'),\n",
       " Synset('brand-name_drug.n.01'),\n",
       " Synset('controlled_substance.n.01'),\n",
       " Synset('dilator.n.02'),\n",
       " Synset('diuretic_drug.n.01'),\n",
       " Synset('drug_of_abuse.n.01'),\n",
       " Synset('feosol.n.01'),\n",
       " Synset('fergon.n.01'),\n",
       " Synset('fertility_drug.n.01'),\n",
       " Synset('generic_drug.n.01'),\n",
       " Synset('intoxicant.n.02'),\n",
       " Synset('levallorphan.n.01'),\n",
       " Synset('medicine.n.02'),\n",
       " Synset('miotic_drug.n.01'),\n",
       " Synset('mydriatic.n.01'),\n",
       " Synset('narcotic.n.01'),\n",
       " Synset('pentoxifylline.n.01'),\n",
       " Synset('psychoactive_drug.n.01'),\n",
       " Synset('psychotropic_agent.n.01'),\n",
       " Synset('relaxant.n.01'),\n",
       " Synset('soporific.n.01'),\n",
       " Synset('stimulant.n.02'),\n",
       " Synset('suppressant.n.01'),\n",
       " Synset('synergist.n.01'),\n",
       " Synset('virility_drug.n.01')]"
      ]
     },
     "execution_count": 23,
     "metadata": {},
     "output_type": "execute_result"
    }
   ],
   "source": [
    "synset.hyponyms()"
   ]
  },
  {
   "cell_type": "code",
   "execution_count": 24,
   "metadata": {},
   "outputs": [
    {
     "data": {
      "text/plain": [
       "[Lemma('drug.n.01.drug')]"
      ]
     },
     "execution_count": 24,
     "metadata": {},
     "output_type": "execute_result"
    }
   ],
   "source": [
    "synset.lemmas()"
   ]
  },
  {
   "cell_type": "code",
   "execution_count": 25,
   "metadata": {},
   "outputs": [
    {
     "data": {
      "text/plain": [
       "[(Synset('produce.v.01'), 'bring forth or yield'),\n",
       " (Synset('produce.v.02'), 'create or manufacture a man-made product'),\n",
       " (Synset('produce.v.03'), 'cause to happen, occur or exist'),\n",
       " (Synset('produce.v.04'), 'bring out for display'),\n",
       " (Synset('grow.v.07'),\n",
       "  'cultivate by growing, often involving improvements by means of agricultural techniques'),\n",
       " (Synset('produce.v.06'), 'bring onto the market or release'),\n",
       " (Synset('grow.v.08'),\n",
       "  'come to have or undergo a change of (physical features and attributes)')]"
      ]
     },
     "execution_count": 25,
     "metadata": {},
     "output_type": "execute_result"
    }
   ],
   "source": [
    "[ (syn,syn.definition()) for syn in wn.synsets(\"produces\",pos=wn.VERB)]"
   ]
  },
  {
   "cell_type": "code",
   "execution_count": 26,
   "metadata": {},
   "outputs": [],
   "source": [
    "synsetProduces = wn.synset('produce.v.02')"
   ]
  },
  {
   "cell_type": "code",
   "execution_count": 27,
   "metadata": {},
   "outputs": [
    {
     "data": {
      "text/plain": [
       "[Lemma('produce.v.02.produce'),\n",
       " Lemma('produce.v.02.make'),\n",
       " Lemma('produce.v.02.create')]"
      ]
     },
     "execution_count": 27,
     "metadata": {},
     "output_type": "execute_result"
    }
   ],
   "source": [
    "synsetProduces.lemmas()"
   ]
  },
  {
   "cell_type": "code",
   "execution_count": 28,
   "metadata": {},
   "outputs": [
    {
     "name": "stdout",
     "output_type": "stream",
     "text": [
      "----------------------------------------------------------------------------------------------------\n",
      "Input_phrase:  What Laboratory produces the drug buscopan?\n",
      "----------------------------------------------------------------------------------------------------\n",
      "('tell me the company which manufactures buscopan?', 38)\n",
      "('tell me the laboratory that produces buscopan?', 27)\n",
      "('what laboratory produces buscopan drugs?', 27)\n",
      "('what laboratory produces buscopan?', 21)\n",
      "('tell me the lab that produces the drug buscopan?', 19)\n"
     ]
    }
   ],
   "source": [
    "paraphrases = set()\n",
    "inputs = ['What Laboratory produces the drug buscopan?']\n",
    "for input in inputs:\n",
    "    print(\"-\"*100)\n",
    "    print(\"Input_phrase: \", input)\n",
    "    print(\"-\"*100)\n",
    "    para_phrases = parrot.augment(input_phrase=input,max_return_phrases = 10)\n",
    "    paraphrases.update(para_phrases)\n",
    "    for para_phrase in para_phrases:\n",
    "        print(para_phrase)"
   ]
  },
  {
   "cell_type": "code",
   "execution_count": 30,
   "metadata": {},
   "outputs": [
    {
     "name": "stdout",
     "output_type": "stream",
     "text": [
      "----------------------------------------------------------------------------------------------------\n",
      "Input_phrase:  what is the property for the thing something?\n",
      "----------------------------------------------------------------------------------------------------\n",
      "('what property do you have for something?', 32)\n",
      "(\"what's the property of a thing?\", 29)\n",
      "('what is the property for that particular thing?', 25)\n",
      "('what is a property for something?', 25)\n",
      "('what is the property of something?', 24)\n",
      "----------------------------------------------------------------------------------------------------\n",
      "Input_phrase:  what is the property for the thing something?\n",
      "----------------------------------------------------------------------------------------------------\n",
      "(\"what's the property of the thing?\", 26)\n",
      "(\"what's the property of something?\", 26)\n",
      "('what is the property of something?', 24)\n",
      "****************************************************************************************************\n",
      "Distincts variations:\n"
     ]
    },
    {
     "data": {
      "text/plain": [
       "{('what is a property for something?', 25),\n",
       " ('what is the property for that particular thing?', 25),\n",
       " ('what is the property of something?', 24),\n",
       " ('what property do you have for something?', 32),\n",
       " (\"what's the property of a thing?\", 29),\n",
       " (\"what's the property of something?\", 26),\n",
       " (\"what's the property of the thing?\", 26)}"
      ]
     },
     "execution_count": 30,
     "metadata": {},
     "output_type": "execute_result"
    }
   ],
   "source": [
    "inputs = ['what is the property for the thing something?']\n",
    "paraphrases = set()\n",
    "for input in inputs:\n",
    "    print(\"-\"*100)\n",
    "    print(\"Input_phrase: \", input)\n",
    "    print(\"-\"*100)\n",
    "    para_phrases = parrot.augment(input_phrase=input,max_return_phrases = 10)\n",
    "    paraphrases.update(para_phrases)\n",
    "    for para_phrase in para_phrases:\n",
    "        print(para_phrase)\n",
    "for input in inputs:\n",
    "    print(\"-\"*100)\n",
    "    print(\"Input_phrase: \", input)\n",
    "    print(\"-\"*100)\n",
    "    para_phrases = parrot.augment(input_phrase=input,do_diverse=True,max_return_phrases = 10)\n",
    "    paraphrases.update(para_phrases)\n",
    "    for para_phrase in para_phrases:\n",
    "        print(para_phrase)\n",
    "print(\"*\"*100)\n",
    "print(\"Distincts variations:\")\n",
    "paraphrases"
   ]
  },
  {
   "cell_type": "code",
   "execution_count": 38,
   "metadata": {},
   "outputs": [
    {
     "name": "stdout",
     "output_type": "stream",
     "text": [
      "what is the <$Property_Label> for that particular <$Class_Label>?\n",
      "what's the <$Property_Label> of a <$Class_Label>?\n",
      "what is a <$Property_Label> for some<$Class_Label>?\n",
      "what's the <$Property_Label> of some<$Class_Label>?\n",
      "what's the <$Property_Label> of the <$Class_Label>?\n",
      "what <$Property_Label> do you have for some<$Class_Label>?\n",
      "what is the <$Property_Label> of some<$Class_Label>?\n"
     ]
    }
   ],
   "source": [
    "paraphrases_l = []\n",
    "for item in paraphrases:\n",
    "    text = item[0]\n",
    "    text = text.replace('property','<$Property_Label>')\n",
    "    text = text.replace('thing','<$Class_Label>')\n",
    "    text = text.replace('something','<$resource>')\n",
    "    paraphrases_l.append(text)\n",
    "    print(text)"
   ]
  },
  {
   "cell_type": "code",
   "execution_count": 55,
   "metadata": {},
   "outputs": [
    {
     "name": "stdout",
     "output_type": "stream",
     "text": [
      "what is the property for that particular thing?->Qual é a propriedade para essa coisa em particular?\n",
      "what's the property of a thing?->Qual é a propriedade de uma coisa?\n",
      "what is a property for something?->O que é uma propriedade para alguma coisa?\n",
      "what's the property of something?->Qual é a propriedade de algo?\n",
      "what's the property of the thing?->Qual é a propriedade da coisa?\n",
      "what property do you have for something?->Que propriedade você tem para alguma coisa?\n",
      "what is the property of something?->Qual é a propriedade de algo?\n",
      "Qual é a <$Property_Label> para essa <$Class_Label> em particular?\n",
      "Qual é a <$Property_Label> de uma <$Class_Label>?\n",
      "O que é uma <$Property_Label> para <$resource>?\n",
      "Qual é a <$Property_Label> de <$resource>?\n",
      "Qual é a <$Property_Label> da <$Class_Label>?\n",
      "Que <$Property_Label> você tem para <$resource>?\n",
      "Qual é a <$Property_Label> de <$resource>?\n"
     ]
    }
   ],
   "source": [
    "paraphrases_l = [item[0] for item in paraphrases]\n",
    "paraphrases_l_pt = []\n",
    "for paraphrase in paraphrases_l:\n",
    "    paraphrase_pt = translator.translate(paraphrase, dest='pt')\n",
    "    print(f'{paraphrase_pt.origin}->{paraphrase_pt.text}')\n",
    "    paraphrases_l_pt.append(paraphrase_pt.text)\n",
    "for item in paraphrases_l_pt:\n",
    "    text = item\n",
    "    text = text.replace('propriedade','<$Property_Label>')\n",
    "    text = text.replace('alguma coisa','<$resource>')\n",
    "    text = text.replace('coisa','<$Class_Label>')\n",
    "    text = text.replace('algo','<$resource>')\n",
    "    print(text)"
   ]
  }
 ],
 "metadata": {
  "kernelspec": {
   "display_name": "Python 3.9.7 ('base')",
   "language": "python",
   "name": "python3"
  },
  "language_info": {
   "codemirror_mode": {
    "name": "ipython",
    "version": 3
   },
   "file_extension": ".py",
   "mimetype": "text/x-python",
   "name": "python",
   "nbconvert_exporter": "python",
   "pygments_lexer": "ipython3",
   "version": "3.9.7"
  },
  "orig_nbformat": 4,
  "vscode": {
   "interpreter": {
    "hash": "c1202d1414bc2129bb3bd955f9f4a76620d64f935936356d2f69a5c5335b3fff"
   }
  }
 },
 "nbformat": 4,
 "nbformat_minor": 2
}
