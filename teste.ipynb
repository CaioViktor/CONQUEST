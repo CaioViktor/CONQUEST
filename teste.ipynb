{
 "cells": [
  {
   "cell_type": "code",
   "execution_count": 1,
   "metadata": {},
   "outputs": [],
   "source": [
    "import ontology.Schema as sc\n",
    "import spacy\n",
    "import qai.QAI_Manager as q\n",
    "import os\n",
    "import pickle"
   ]
  },
  {
   "cell_type": "code",
   "execution_count": 2,
   "metadata": {},
   "outputs": [],
   "source": [
    "ontology_path = \"input/medibot/ontology.ttl\"\n",
    "schema = sc.getGraph(ontology_path)\n",
    "classes_index = sc.load_classes_index(schema)\n",
    "properties_index = sc.load_properties_index(schema)"
   ]
  },
  {
   "cell_type": "code",
   "execution_count": 3,
   "metadata": {},
   "outputs": [],
   "source": [
    "from parrot import Parrot\n",
    "import torch\n",
    "import warnings\n",
    "warnings.filterwarnings(\"ignore\")"
   ]
  },
  {
   "cell_type": "code",
   "execution_count": 4,
   "metadata": {},
   "outputs": [],
   "source": [
    "def random_state(seed):\n",
    "  torch.manual_seed(seed)\n",
    "  if torch.cuda.is_available():\n",
    "    torch.cuda.manual_seed_all(seed)"
   ]
  },
  {
   "cell_type": "code",
   "execution_count": 5,
   "metadata": {},
   "outputs": [],
   "source": [
    "random_state(1234)"
   ]
  },
  {
   "cell_type": "code",
   "execution_count": 6,
   "metadata": {},
   "outputs": [],
   "source": [
    "parrot = Parrot(model_tag=\"prithivida/parrot_paraphraser_on_T5\", use_gpu=False)"
   ]
  },
  {
   "cell_type": "code",
   "execution_count": 7,
   "metadata": {},
   "outputs": [],
   "source": [
    "inputs = ['what is the highest price for the drug buscopan?']"
   ]
  },
  {
   "cell_type": "code",
   "execution_count": 8,
   "metadata": {},
   "outputs": [],
   "source": [
    "paraphrases = set()"
   ]
  },
  {
   "cell_type": "code",
   "execution_count": 9,
   "metadata": {},
   "outputs": [
    {
     "name": "stdout",
     "output_type": "stream",
     "text": [
      "----------------------------------------------------------------------------------------------------\n",
      "Input_phrase:  what is the highest price for the drug buscopan?\n",
      "----------------------------------------------------------------------------------------------------\n",
      "('tell me the best price for buscopan?', 30)\n",
      "('tell me the highest price for buscopan?', 26)\n",
      "(\"what's the highest price of buscopan?\", 25)\n",
      "(\"what's the biggest price for a buscopan?\", 24)\n"
     ]
    }
   ],
   "source": [
    "for input in inputs:\n",
    "    print(\"-\"*100)\n",
    "    print(\"Input_phrase: \", input)\n",
    "    print(\"-\"*100)\n",
    "    para_phrases = parrot.augment(input_phrase=input,max_return_phrases = 10)\n",
    "    paraphrases.update(para_phrases)\n",
    "    for para_phrase in para_phrases:\n",
    "        print(para_phrase)"
   ]
  },
  {
   "cell_type": "code",
   "execution_count": 10,
   "metadata": {},
   "outputs": [
    {
     "name": "stdout",
     "output_type": "stream",
     "text": [
      "----------------------------------------------------------------------------------------------------\n",
      "Input_phrase:  what is the highest price for the drug buscopan?\n",
      "----------------------------------------------------------------------------------------------------\n",
      "('tell me the highest price for buscopan?', 26)\n",
      "(\"what's the highest price of buscopan?\", 25)\n",
      "(\"what's the highest price for buscopan?\", 23)\n",
      "('what is the highest price for buscopan?', 21)\n"
     ]
    }
   ],
   "source": [
    "for input in inputs:\n",
    "    print(\"-\"*100)\n",
    "    print(\"Input_phrase: \", input)\n",
    "    print(\"-\"*100)\n",
    "    para_phrases = parrot.augment(input_phrase=input,do_diverse=True,max_return_phrases = 10)\n",
    "    paraphrases.update(para_phrases)\n",
    "    for para_phrase in para_phrases:\n",
    "        print(para_phrase)"
   ]
  },
  {
   "cell_type": "code",
   "execution_count": 11,
   "metadata": {},
   "outputs": [
    {
     "data": {
      "text/plain": [
       "{('tell me the best price for buscopan?', 30),\n",
       " ('tell me the highest price for buscopan?', 26),\n",
       " ('what is the highest price for buscopan?', 21),\n",
       " (\"what's the biggest price for a buscopan?\", 24),\n",
       " (\"what's the highest price for buscopan?\", 23),\n",
       " (\"what's the highest price of buscopan?\", 25)}"
      ]
     },
     "execution_count": 11,
     "metadata": {},
     "output_type": "execute_result"
    }
   ],
   "source": [
    "paraphrases"
   ]
  },
  {
   "cell_type": "code",
   "execution_count": 12,
   "metadata": {},
   "outputs": [],
   "source": [
    "from googletrans import Translator"
   ]
  },
  {
   "cell_type": "code",
   "execution_count": 13,
   "metadata": {},
   "outputs": [],
   "source": [
    "translator = Translator()"
   ]
  },
  {
   "cell_type": "code",
   "execution_count": 14,
   "metadata": {},
   "outputs": [],
   "source": [
    "paraphrases_pt= []"
   ]
  },
  {
   "cell_type": "code",
   "execution_count": 15,
   "metadata": {},
   "outputs": [],
   "source": [
    "paraphrases_l= [paraprhase[0] for paraprhase in paraphrases]"
   ]
  },
  {
   "cell_type": "code",
   "execution_count": 16,
   "metadata": {},
   "outputs": [
    {
     "name": "stdout",
     "output_type": "stream",
     "text": [
      "tell me the highest price for buscopan?->Diga -me o preço mais alto para Buscopan?\n",
      "what's the biggest price for a buscopan?->Qual é o maior preço para um Buscopan?\n",
      "what's the highest price for buscopan?->Qual é o preço mais alto para Buscopan?\n",
      "what is the highest price for buscopan?->Qual é o preço mais alto para Buscopan?\n",
      "tell me the best price for buscopan?->Diga -me o melhor preço para Buscopan?\n",
      "what's the highest price of buscopan?->Qual é o preço mais alto de Buscopan?\n"
     ]
    }
   ],
   "source": [
    "for paraphrase in paraphrases_l:\n",
    "    paraphrase_pt = translator.translate(paraphrase, dest='pt')\n",
    "    paraphrases_pt.append(str(paraphrase_pt.text))\n",
    "    print(f'{paraphrase_pt.origin}->{paraphrase_pt.text}')"
   ]
  },
  {
   "cell_type": "code",
   "execution_count": 17,
   "metadata": {},
   "outputs": [
    {
     "data": {
      "text/plain": [
       "['Diga -me o preço mais alto para Buscopan?',\n",
       " 'Qual é o maior preço para um Buscopan?',\n",
       " 'Qual é o preço mais alto para Buscopan?',\n",
       " 'Qual é o preço mais alto para Buscopan?',\n",
       " 'Diga -me o melhor preço para Buscopan?',\n",
       " 'Qual é o preço mais alto de Buscopan?']"
      ]
     },
     "execution_count": 17,
     "metadata": {},
     "output_type": "execute_result"
    }
   ],
   "source": [
    "paraphrases_pt"
   ]
  },
  {
   "cell_type": "code",
   "execution_count": 18,
   "metadata": {},
   "outputs": [],
   "source": [
    "from nltk.corpus import wordnet as wn"
   ]
  },
  {
   "cell_type": "code",
   "execution_count": 19,
   "metadata": {},
   "outputs": [
    {
     "data": {
      "text/plain": [
       "[Synset('drug.n.01')]"
      ]
     },
     "execution_count": 19,
     "metadata": {},
     "output_type": "execute_result"
    }
   ],
   "source": [
    "wn.synsets(\"drugs\",pos=wn.NOUN)"
   ]
  },
  {
   "cell_type": "code",
   "execution_count": 20,
   "metadata": {},
   "outputs": [],
   "source": [
    "synset = wn.synset('drug.n.01')"
   ]
  },
  {
   "cell_type": "code",
   "execution_count": 21,
   "metadata": {},
   "outputs": [
    {
     "data": {
      "text/plain": [
       "'a substance that is used as a medicine or narcotic'"
      ]
     },
     "execution_count": 21,
     "metadata": {},
     "output_type": "execute_result"
    }
   ],
   "source": [
    "synset.definition()"
   ]
  },
  {
   "cell_type": "code",
   "execution_count": 22,
   "metadata": {},
   "outputs": [
    {
     "data": {
      "text/plain": [
       "[Synset('agent.n.03')]"
      ]
     },
     "execution_count": 22,
     "metadata": {},
     "output_type": "execute_result"
    }
   ],
   "source": [
    "synset.hypernyms()"
   ]
  },
  {
   "cell_type": "code",
   "execution_count": 23,
   "metadata": {},
   "outputs": [
    {
     "data": {
      "text/plain": [
       "[Synset('abortifacient.n.01'),\n",
       " Synset('agonist.n.04'),\n",
       " Synset('anesthetic.n.01'),\n",
       " Synset('antagonist.n.03'),\n",
       " Synset('anti-tnf_compound.n.01'),\n",
       " Synset('antisyphilitic.n.01'),\n",
       " Synset('arsenical.n.01'),\n",
       " Synset('botanical.n.01'),\n",
       " Synset('brand-name_drug.n.01'),\n",
       " Synset('controlled_substance.n.01'),\n",
       " Synset('dilator.n.02'),\n",
       " Synset('diuretic_drug.n.01'),\n",
       " Synset('drug_of_abuse.n.01'),\n",
       " Synset('feosol.n.01'),\n",
       " Synset('fergon.n.01'),\n",
       " Synset('fertility_drug.n.01'),\n",
       " Synset('generic_drug.n.01'),\n",
       " Synset('intoxicant.n.02'),\n",
       " Synset('levallorphan.n.01'),\n",
       " Synset('medicine.n.02'),\n",
       " Synset('miotic_drug.n.01'),\n",
       " Synset('mydriatic.n.01'),\n",
       " Synset('narcotic.n.01'),\n",
       " Synset('pentoxifylline.n.01'),\n",
       " Synset('psychoactive_drug.n.01'),\n",
       " Synset('psychotropic_agent.n.01'),\n",
       " Synset('relaxant.n.01'),\n",
       " Synset('soporific.n.01'),\n",
       " Synset('stimulant.n.02'),\n",
       " Synset('suppressant.n.01'),\n",
       " Synset('synergist.n.01'),\n",
       " Synset('virility_drug.n.01')]"
      ]
     },
     "execution_count": 23,
     "metadata": {},
     "output_type": "execute_result"
    }
   ],
   "source": [
    "synset.hyponyms()"
   ]
  },
  {
   "cell_type": "code",
   "execution_count": 24,
   "metadata": {},
   "outputs": [
    {
     "data": {
      "text/plain": [
       "[Lemma('drug.n.01.drug')]"
      ]
     },
     "execution_count": 24,
     "metadata": {},
     "output_type": "execute_result"
    }
   ],
   "source": [
    "synset.lemmas()"
   ]
  },
  {
   "cell_type": "code",
   "execution_count": 25,
   "metadata": {},
   "outputs": [
    {
     "data": {
      "text/plain": [
       "[(Synset('produce.v.01'), 'bring forth or yield'),\n",
       " (Synset('produce.v.02'), 'create or manufacture a man-made product'),\n",
       " (Synset('produce.v.03'), 'cause to happen, occur or exist'),\n",
       " (Synset('produce.v.04'), 'bring out for display'),\n",
       " (Synset('grow.v.07'),\n",
       "  'cultivate by growing, often involving improvements by means of agricultural techniques'),\n",
       " (Synset('produce.v.06'), 'bring onto the market or release'),\n",
       " (Synset('grow.v.08'),\n",
       "  'come to have or undergo a change of (physical features and attributes)')]"
      ]
     },
     "execution_count": 25,
     "metadata": {},
     "output_type": "execute_result"
    }
   ],
   "source": [
    "[ (syn,syn.definition()) for syn in wn.synsets(\"produces\",pos=wn.VERB)]"
   ]
  },
  {
   "cell_type": "code",
   "execution_count": 26,
   "metadata": {},
   "outputs": [],
   "source": [
    "synsetProduces = wn.synset('produce.v.02')"
   ]
  },
  {
   "cell_type": "code",
   "execution_count": 27,
   "metadata": {},
   "outputs": [
    {
     "data": {
      "text/plain": [
       "[Lemma('produce.v.02.produce'),\n",
       " Lemma('produce.v.02.make'),\n",
       " Lemma('produce.v.02.create')]"
      ]
     },
     "execution_count": 27,
     "metadata": {},
     "output_type": "execute_result"
    }
   ],
   "source": [
    "synsetProduces.lemmas()"
   ]
  },
  {
   "cell_type": "code",
   "execution_count": 28,
   "metadata": {},
   "outputs": [
    {
     "name": "stdout",
     "output_type": "stream",
     "text": [
      "----------------------------------------------------------------------------------------------------\n",
      "Input_phrase:  What Laboratory produces the drug buscopan?\n",
      "----------------------------------------------------------------------------------------------------\n",
      "('tell me the company which manufactures buscopan?', 38)\n",
      "('tell me the laboratory that produces buscopan?', 27)\n",
      "('what laboratory produces buscopan drugs?', 27)\n",
      "('what laboratory produces buscopan?', 21)\n",
      "('tell me the lab that produces the drug buscopan?', 19)\n"
     ]
    }
   ],
   "source": [
    "paraphrases = set()\n",
    "inputs = ['What Laboratory produces the drug buscopan?']\n",
    "for input in inputs:\n",
    "    print(\"-\"*100)\n",
    "    print(\"Input_phrase: \", input)\n",
    "    print(\"-\"*100)\n",
    "    para_phrases = parrot.augment(input_phrase=input,max_return_phrases = 10)\n",
    "    paraphrases.update(para_phrases)\n",
    "    for para_phrase in para_phrases:\n",
    "        print(para_phrase)"
   ]
  },
  {
   "cell_type": "code",
   "execution_count": 30,
   "metadata": {},
   "outputs": [
    {
     "name": "stdout",
     "output_type": "stream",
     "text": [
      "----------------------------------------------------------------------------------------------------\n",
      "Input_phrase:  what is the property for the thing something?\n",
      "----------------------------------------------------------------------------------------------------\n",
      "('what property do you have for something?', 32)\n",
      "(\"what's the property of a thing?\", 29)\n",
      "('what is the property for that particular thing?', 25)\n",
      "('what is a property for something?', 25)\n",
      "('what is the property of something?', 24)\n",
      "----------------------------------------------------------------------------------------------------\n",
      "Input_phrase:  what is the property for the thing something?\n",
      "----------------------------------------------------------------------------------------------------\n",
      "(\"what's the property of the thing?\", 26)\n",
      "(\"what's the property of something?\", 26)\n",
      "('what is the property of something?', 24)\n",
      "****************************************************************************************************\n",
      "Distincts variations:\n"
     ]
    },
    {
     "data": {
      "text/plain": [
       "{('what is a property for something?', 25),\n",
       " ('what is the property for that particular thing?', 25),\n",
       " ('what is the property of something?', 24),\n",
       " ('what property do you have for something?', 32),\n",
       " (\"what's the property of a thing?\", 29),\n",
       " (\"what's the property of something?\", 26),\n",
       " (\"what's the property of the thing?\", 26)}"
      ]
     },
     "execution_count": 30,
     "metadata": {},
     "output_type": "execute_result"
    }
   ],
   "source": [
    "inputs = ['what is the property for the thing something?']\n",
    "paraphrases = set()\n",
    "for input in inputs:\n",
    "    print(\"-\"*100)\n",
    "    print(\"Input_phrase: \", input)\n",
    "    print(\"-\"*100)\n",
    "    para_phrases = parrot.augment(input_phrase=input,max_return_phrases = 10)\n",
    "    paraphrases.update(para_phrases)\n",
    "    for para_phrase in para_phrases:\n",
    "        print(para_phrase)\n",
    "for input in inputs:\n",
    "    print(\"-\"*100)\n",
    "    print(\"Input_phrase: \", input)\n",
    "    print(\"-\"*100)\n",
    "    para_phrases = parrot.augment(input_phrase=input,do_diverse=True,max_return_phrases = 10)\n",
    "    paraphrases.update(para_phrases)\n",
    "    for para_phrase in para_phrases:\n",
    "        print(para_phrase)\n",
    "print(\"*\"*100)\n",
    "print(\"Distincts variations:\")\n",
    "paraphrases"
   ]
  },
  {
   "cell_type": "code",
   "execution_count": 38,
   "metadata": {},
   "outputs": [
    {
     "name": "stdout",
     "output_type": "stream",
     "text": [
      "what is the <$Property_Label> for that particular <$Class_Label>?\n",
      "what's the <$Property_Label> of a <$Class_Label>?\n",
      "what is a <$Property_Label> for some<$Class_Label>?\n",
      "what's the <$Property_Label> of some<$Class_Label>?\n",
      "what's the <$Property_Label> of the <$Class_Label>?\n",
      "what <$Property_Label> do you have for some<$Class_Label>?\n",
      "what is the <$Property_Label> of some<$Class_Label>?\n"
     ]
    }
   ],
   "source": [
    "paraphrases_l = []\n",
    "for item in paraphrases:\n",
    "    text = item[0]\n",
    "    text = text.replace('property','<$Property_Label>')\n",
    "    text = text.replace('thing','<$Class_Label>')\n",
    "    text = text.replace('something','<$resource>')\n",
    "    paraphrases_l.append(text)\n",
    "    print(text)"
   ]
  },
  {
   "cell_type": "code",
   "execution_count": 55,
   "metadata": {},
   "outputs": [
    {
     "name": "stdout",
     "output_type": "stream",
     "text": [
      "what is the property for that particular thing?->Qual é a propriedade para essa coisa em particular?\n",
      "what's the property of a thing?->Qual é a propriedade de uma coisa?\n",
      "what is a property for something?->O que é uma propriedade para alguma coisa?\n",
      "what's the property of something?->Qual é a propriedade de algo?\n",
      "what's the property of the thing?->Qual é a propriedade da coisa?\n",
      "what property do you have for something?->Que propriedade você tem para alguma coisa?\n",
      "what is the property of something?->Qual é a propriedade de algo?\n",
      "Qual é a <$Property_Label> para essa <$Class_Label> em particular?\n",
      "Qual é a <$Property_Label> de uma <$Class_Label>?\n",
      "O que é uma <$Property_Label> para <$resource>?\n",
      "Qual é a <$Property_Label> de <$resource>?\n",
      "Qual é a <$Property_Label> da <$Class_Label>?\n",
      "Que <$Property_Label> você tem para <$resource>?\n",
      "Qual é a <$Property_Label> de <$resource>?\n"
     ]
    }
   ],
   "source": [
    "paraphrases_l = [item[0] for item in paraphrases]\n",
    "paraphrases_l_pt = []\n",
    "for paraphrase in paraphrases_l:\n",
    "    paraphrase_pt = translator.translate(paraphrase, dest='pt')\n",
    "    print(f'{paraphrase_pt.origin}->{paraphrase_pt.text}')\n",
    "    paraphrases_l_pt.append(paraphrase_pt.text)\n",
    "for item in paraphrases_l_pt:\n",
    "    text = item\n",
    "    text = text.replace('propriedade','<$Property_Label>')\n",
    "    text = text.replace('alguma coisa','<$resource>')\n",
    "    text = text.replace('coisa','<$Class_Label>')\n",
    "    text = text.replace('algo','<$resource>')\n",
    "    print(text)"
   ]
  },
  {
   "cell_type": "code",
   "execution_count": 1,
   "metadata": {},
   "outputs": [],
   "source": [
    "import json\n",
    "import spacy"
   ]
  },
  {
   "cell_type": "code",
   "execution_count": 2,
   "metadata": {},
   "outputs": [],
   "source": [
    "with open(\"qald_9_plus_train_dbpedia.json\",\"r\") as qald_txt:\n",
    "    qald = json.load(qald_txt)"
   ]
  },
  {
   "cell_type": "code",
   "execution_count": 3,
   "metadata": {},
   "outputs": [],
   "source": [
    "questions = [ question['question'][0]['string'] for question in qald['questions']]"
   ]
  },
  {
   "cell_type": "code",
   "execution_count": 4,
   "metadata": {},
   "outputs": [
    {
     "data": {
      "text/plain": [
       "['List all boardgames by GMT.',\n",
       " 'Who developed Skype?',\n",
       " 'Which people were born in Heraklion?',\n",
       " 'In which U.S. state is Area 51 located?',\n",
       " 'Who is the mayor of New York City?',\n",
       " 'Which countries have places with more than two caves?',\n",
       " 'Where did Abraham Lincoln die?',\n",
       " 'Which airports does Air China serve?',\n",
       " 'Give me all actors starring in movies directed by and starring William Shatner.',\n",
       " 'What are the official languages of the Philippines?',\n",
       " 'Give me all Danish films.',\n",
       " 'Which movies starring Brad Pitt were directed by Guy Ritchie?',\n",
       " 'Give me the grandchildren of Bruce Lee.',\n",
       " 'Which other weapons did the designer of the Uzi develop?',\n",
       " 'Who is the owner of Universal Studios?',\n",
       " 'Which state of the USA has the highest population density?',\n",
       " 'Which monarchs were married to a German?',\n",
       " 'Which organizations were founded in 1950?',\n",
       " 'Who created the comic Captain America?',\n",
       " 'Give me the Apollo 14 astronauts.',\n",
       " 'Who wrote the book The pillars of the Earth?',\n",
       " 'Which state of the United States of America has the highest density?',\n",
       " 'Which spaceflights were launched from Baikonur?',\n",
       " 'Give me a list of all trumpet players that were bandleaders.',\n",
       " 'Which U.S. states are in the same timezone as Utah?',\n",
       " 'Which U.S. states possess gold minerals?',\n",
       " 'Who is the daughter of Ingrid Bergman married to?',\n",
       " 'How deep is Lake Placid?',\n",
       " 'Show me all museums in London.',\n",
       " 'Which caves have more than 3 entrances?',\n",
       " 'Who is the tallest player of the Atlanta Falcons?',\n",
       " 'What are the top-10 action role-playing video games according to IGN?',\n",
       " 'Give me all writers that won the Nobel Prize in literature.',\n",
       " 'Show me all basketball players that are higher than 2 meters.',\n",
       " 'When was the Statue of Liberty built?',\n",
       " 'Which states border Illinois?',\n",
       " 'Who developed Minecraft?',\n",
       " 'Where did Hillel Slovak die?',\n",
       " 'What movies does Jesse Eisenberg play in?',\n",
       " 'Give all swimmers that were born in Moscow.',\n",
       " 'Give me all cosmonauts.',\n",
       " 'Give me all Swiss non-profit organizations.',\n",
       " 'Which presidents were born in 1945?',\n",
       " 'What kind of music did Lou Reed play?',\n",
       " 'Where do the Red Sox play?',\n",
       " 'Show a list of soccer clubs that play in the Bundesliga.',\n",
       " 'Which volcanos in Japan erupted since 2000?',\n",
       " 'Which bridges cross the Seine?',\n",
       " 'What is the official color of the University of Oxford?',\n",
       " 'How many films did Hal Roach produce?',\n",
       " 'Give me all Danish movies.',\n",
       " 'What is the most frequent cause of death?',\n",
       " 'Who are the four youngest MVP basketball players?',\n",
       " 'Give me all companies in Munich.',\n",
       " 'Give me the capitals of all countries that the Himalayas run through.',\n",
       " 'How many movies did Park Chan-wook direct?',\n",
       " 'Which rivers flow into a German lake?',\n",
       " 'How many airlines are there?',\n",
       " 'Give me all islands that belong to Japan.',\n",
       " 'How many inhabitants does Maribor have?',\n",
       " 'Give me all Apollo 14 astronauts.',\n",
       " 'Which companies have more than 1 million employees?',\n",
       " 'In which films directed by Garry Marshall was Julia Roberts starring?',\n",
       " 'Give me all soccer clubs in the Premier League.',\n",
       " 'What is the highest place of the Urals?',\n",
       " 'Who is the governor of Wyoming?',\n",
       " 'Where did the architect of the Eiffel Tower study?',\n",
       " 'Give me all world heritage sites designated within the past two years.',\n",
       " 'Give me all actors who were born in Paris after 1950.',\n",
       " 'Which movies star both Liz Taylor and Richard Burton?',\n",
       " 'Give me all Australian nonprofit organizations.',\n",
       " 'Which pope succeeded John Paul II?',\n",
       " 'Give me all ESA astronauts.',\n",
       " 'Who was president of Pakistan in 1978?',\n",
       " 'Who is the owner of Rolls-Royce?',\n",
       " 'How many museums does Paris have?',\n",
       " 'Where was JFK assassinated?',\n",
       " 'Give me all federal chancellors of Germany.',\n",
       " 'Show me everyone who was born on Halloween.',\n",
       " 'Which beer originated in Ireland?',\n",
       " 'To which countries does the Himalayan mountain system extend?',\n",
       " 'Which actors were born in Germany?',\n",
       " 'How much carbs does peanut butter have?',\n",
       " 'Who produced the most films?',\n",
       " 'How many employees does Google have?',\n",
       " 'Give me all actors who were born in Berlin.',\n",
       " 'Who created Goofy?',\n",
       " 'Which music albums contain the song Last Christmas?',\n",
       " 'When was Alberta admitted as province?',\n",
       " 'How many missions does the Soyuz programme have?',\n",
       " 'Give me all the TV shows with Neil Patrick Harris.',\n",
       " 'When were the Hells Angels founded?',\n",
       " 'What is the net income of Apple?',\n",
       " 'Give me all Swedish holidays.',\n",
       " 'In which city was the former Dutch queen Juliana buried?',\n",
       " 'List all the musicals with music by Leonard Bernstein.',\n",
       " 'Give me all companies in the advertising industry.',\n",
       " 'What is the largest metropolitan area in Washington state?',\n",
       " 'Who killed John Lennon?',\n",
       " 'Which writers studied in Istanbul?',\n",
       " 'Give me all Australian metalcore bands.',\n",
       " 'Which countries adopted the Euro?',\n",
       " 'Give me all types of eating disorders.',\n",
       " 'Was Marc Chagall a jew?',\n",
       " \"What was Brazil's lowest rank in the FIFA World Ranking?\",\n",
       " 'How many films did Leonardo DiCaprio star in?',\n",
       " 'Was Margaret Thatcher a chemist?',\n",
       " 'Which U.S. states are in the same time zone as Utah?',\n",
       " 'Give me all books written by Danielle Steel.',\n",
       " 'Which country has the most official languages?',\n",
       " 'What is the total amount of men and women serving in the FDNY?',\n",
       " 'Which actor played Chewbacca?',\n",
       " 'Give me all libraries established earlier than 1400.',\n",
       " 'Which programming languages were influenced by Perl?',\n",
       " 'In which U.S. state is Mount McKinley located?',\n",
       " 'What airlines are part of the SkyTeam alliance?',\n",
       " 'Which ships were called after Benjamin Franklin?',\n",
       " 'Give me all Methodist politicians.',\n",
       " 'What other books have been written by the author of The Fault in Our Stars?',\n",
       " 'What is the highest mountain?',\n",
       " 'Which poet wrote the most books?',\n",
       " 'Which programming languages influenced Javascript?',\n",
       " 'Which musician wrote the most books?',\n",
       " 'Which films starring Clint Eastwood did he direct himself?',\n",
       " 'Which software has been developed by organizations founded in California?',\n",
       " 'Which instruments does Cat Stevens play?',\n",
       " 'How many airlines are members of the Star Alliance?',\n",
       " 'Give me all actors called Baldwin.',\n",
       " 'Who wrote The Hunger Games?',\n",
       " 'For which label did Elvis record his first album?',\n",
       " 'Is Christian Bale starring in Batman Begins?',\n",
       " 'Where is the residence of the prime minister of Spain?',\n",
       " 'Which actor was casted in the most movies?',\n",
       " 'Which countries have more than two official languages?',\n",
       " 'Which countries have more than ten caves?',\n",
       " 'Show me all songs from Bruce Springsteen released between 1980 and 1990.',\n",
       " 'Which television shows were created by John Cleese?',\n",
       " 'When did Latvia join the EU?',\n",
       " 'Which soccer players were born on Malta?',\n",
       " 'How many politicians graduated from Columbia University?',\n",
       " 'Give me the birthdays of all actors of the television show Charmed.',\n",
       " 'Which telecommunications organizations are located in Belgium?',\n",
       " 'Give me a list of all lakes in Denmark.',\n",
       " 'How many children does Eddie Murphy have?',\n",
       " 'Show me all English Gothic buildings in Kent.',\n",
       " 'Who is the manager of Real Madrid?',\n",
       " 'In which countries can you pay using the West African CFA franc?',\n",
       " 'Which holidays are celebrated around the world?',\n",
       " 'What is the longest river?',\n",
       " 'Which organizations were founded in 1930?',\n",
       " 'What is the birth name of Angela Merkel?',\n",
       " 'Who has Tom Cruise been married to?',\n",
       " 'Which weapons did Heckler & Koch develop?',\n",
       " 'What is the smallest city by area in Germany?',\n",
       " 'What is the ruling party in Lisbon?',\n",
       " \"How heavy is Jupiter's lightest moon?\",\n",
       " 'How many employees does IBM have?',\n",
       " 'List all episodes of the first season of the HBO television series The Sopranos!',\n",
       " 'What does ICRO stand for?',\n",
       " 'Does the new Battlestar Galactica series have more episodes than the old one?',\n",
       " 'Give me all films produced by Hal Roach.',\n",
       " 'Who played Agent Smith in Matrix?',\n",
       " 'Which Greek parties are pro-European?',\n",
       " 'Give me a list of all bandleaders that play trumpet.',\n",
       " 'What is the second highest mountain on Earth?',\n",
       " 'Is Egypts largest city also its capital?',\n",
       " 'Which rockets were launched from Baikonur?',\n",
       " 'How many programming languages are there?',\n",
       " 'Which Chess players died in the same place they were born in?',\n",
       " 'Who is the owner of Facebook?',\n",
       " 'Give me all movies with Tom Cruise.',\n",
       " 'In which U.S. state is Fort Knox located?',\n",
       " 'Give me all cities in New Jersey with more than 100000 inhabitants.',\n",
       " 'Which mountains are higher than the Nanga Parbat?',\n",
       " 'Give me all B-sides of the Ramones.',\n",
       " 'What are the specialities of the UNC Health Care?',\n",
       " 'When was Olof Palme shot?',\n",
       " 'List the seven kings of Rome.',\n",
       " 'Give me all people that were born in Vienna and died in Berlin.',\n",
       " 'Is Darth Vader Luke’s father?',\n",
       " 'Show me all the breweries in Australia.',\n",
       " 'Give me all films produced by Steven Spielberg with a budget of at least $80 million.',\n",
       " 'Give me all soccer clubs in Spain.',\n",
       " 'Who produced films starring Natalie Portman?',\n",
       " 'Give me all breeds of the German Shepherd dog.',\n",
       " 'Who is the heaviest player of the Chicago Bulls?',\n",
       " 'Which languages are spoken in Estonia?',\n",
       " 'What is the largest country in the world?',\n",
       " 'What is the largest city in america?',\n",
       " 'Who was the pope that founded the Vatican Television?',\n",
       " 'Who discovered Ceres?',\n",
       " 'Who is the king of the Netherlands?',\n",
       " 'Is Cola a beverage?',\n",
       " 'What is the alma mater of the chancellor of Germany Angela Merkel?',\n",
       " 'Who wrote the book Les Piliers de la terre?',\n",
       " 'Which airports does Yeti Airlines serve?',\n",
       " 'Where is the birthplace of Goethe?',\n",
       " 'Was the Cuban Missile Crisis earlier than the Bay of Pigs Invasion?',\n",
       " 'Which ingredients do I need for carrot cake?',\n",
       " 'Who created Wikipedia?',\n",
       " 'What is the highest mountain in Saxony Germany?',\n",
       " 'Who is the current federal minister of finance in Germany?',\n",
       " 'In which country is Mecca located?',\n",
       " 'Who played Gus Fring in Breaking Bad?',\n",
       " 'In which country does the Nile start?',\n",
       " 'In which state Penn State University is located?',\n",
       " 'What is the biggest stadium in Spain?',\n",
       " \"Who is the coach of Ankara's ice hockey team?\",\n",
       " 'How large is the area of UK?',\n",
       " 'Who created Batman?',\n",
       " 'Was Sigmund Freud married?',\n",
       " 'Who are the developers of DBpedia?',\n",
       " 'Give me all movies directed by Francis Ford Coppola.',\n",
       " 'Are tree frogs a type of amphibian?',\n",
       " 'What is the location of the Houses of Parliament?',\n",
       " 'how much is the elevation of Düsseldorf Airport ?',\n",
       " 'How much is the population of mexico city ?',\n",
       " 'when was the founding date of french fifth republic?',\n",
       " 'Who was the first King of England?',\n",
       " 'Who is the editor of Forbes?',\n",
       " 'Which awards did Douglas Hofstadter win?',\n",
       " 'Who is the youngest Darts player?',\n",
       " 'Is horse racing a sport?',\n",
       " 'Which river does the Brooklyn Bridge cross?',\n",
       " 'How many people live in Poland?',\n",
       " 'When was the last episode of the TV series Friends aired?',\n",
       " 'Is the wife of president Obama called Michelle?',\n",
       " 'Who is 8th president of US?',\n",
       " 'how much is the total population of european union?',\n",
       " 'Give me all launch pads operated by NASA.',\n",
       " 'Who developed the video game World of Warcraft?',\n",
       " 'What is the birth name of Adele?',\n",
       " 'What is the population of Cairo?',\n",
       " 'Is Frank Herbert still alive?',\n",
       " 'What is the last work of Dan Brown?',\n",
       " 'Where is Sungkyunkwan University?',\n",
       " 'Who is the author of the interpretation of dreams?',\n",
       " 'When was the death of Shakespeare?',\n",
       " 'Who developed Slack?',\n",
       " 'Where is the origin of Carolina reaper?',\n",
       " 'In which year was Rachel Stevens born?',\n",
       " 'How often did Jane Fonda marry?',\n",
       " 'Was the wife of president Lincoln called Mary?',\n",
       " 'Which cities does the Weser flow through?',\n",
       " 'In which programming language is GIMP written?',\n",
       " 'Which university did Angela Merkel attend?',\n",
       " 'List all the musicals with music by Elton John.',\n",
       " 'How many Aldi stores are there?',\n",
       " 'What is the longest river in the world?',\n",
       " 'When was John Adams born?',\n",
       " 'Which companies produce hovercrafts?',\n",
       " 'Who was the wife of U.S. president Lincoln?',\n",
       " 'Which species does an elephant belong?',\n",
       " 'How many people live in the capital of Australia?',\n",
       " 'In which ancient empire could you pay with cocoa beans?',\n",
       " 'How many theories did Albert Einstein come up with?',\n",
       " \"Who composed the soundtrack for Cameron's Titanic?\",\n",
       " 'Give me the runtime of Toy Story.',\n",
       " 'With how many countries Iran has borders?',\n",
       " 'Which electronics companies were founded in Beijing?',\n",
       " 'Who was the successor of John F. Kennedy?',\n",
       " 'Who is the mayor of Paris?',\n",
       " 'Did Arnold Schwarzenegger attend a university?',\n",
       " 'Is James Bond married?',\n",
       " 'Does the Isar flow into a lake?',\n",
       " 'Which Indian company has the most employees?',\n",
       " \"Who was John F. Kennedy's vice president?\",\n",
       " 'Which country does the creator of Miffy come from?',\n",
       " 'In what city is the Heineken brewery?',\n",
       " 'Is Barack Obama a democrat?',\n",
       " 'List the children of Margaret Thatcher.',\n",
       " 'From which region is the Melon de Bourgogne?',\n",
       " 'how big is the total area of North Rhine- Westphalia?',\n",
       " 'Which city has the most inhabitants?',\n",
       " \"What is Donald Trump's main business?\",\n",
       " 'When will start the final match of the football world cup 2018?',\n",
       " 'Which films did Stanley Kubrick direct?',\n",
       " 'how much is the population Iraq?',\n",
       " 'How many inhabitants does the largest city in Canada have?',\n",
       " 'Who is the mayor of the capital of French Polynesia?',\n",
       " 'Give me all actors starring in movies directed by William Shatner.',\n",
       " 'How tall is Claudia Schiffer?',\n",
       " 'how much is the population densty rank of germany?',\n",
       " 'What is the highest mountain in Italy?',\n",
       " 'List all games by GMT.',\n",
       " 'What is the official language of Suriname?',\n",
       " 'In which city did Nikos Kazantzakis die?',\n",
       " 'What is in a chocolate chip cookie?',\n",
       " 'In which country is the Limerick Lake?',\n",
       " 'Give me all video games published by Mean Hamster Software.',\n",
       " 'Give me all members of Prodigy.',\n",
       " 'In which time zone is Rome?',\n",
       " 'How high is the lighthouse in Colombo?',\n",
       " 'Who are the writers of the Wall album of Pink Floyd?',\n",
       " 'Who is the mayor of Rotterdam?',\n",
       " 'What is the largest city in Australia?',\n",
       " 'Who was married to president Chirac?',\n",
       " 'What form of government is found in South Africa?',\n",
       " 'How high is the Yokohama Marine Tower?',\n",
       " 'Which holidays are celebrated around the world?',\n",
       " 'Who is the tallest basketball player?',\n",
       " 'How many languages are spoken in Turkmenistan?',\n",
       " 'Did Che Guevara have children?',\n",
       " 'Did Kaurismäki ever win the Grand Prix at Cannes?',\n",
       " 'To which party does the mayor of Paris belong?',\n",
       " 'Who is the Formula 1 race driver with the most races?',\n",
       " 'What country is Sitecore from?',\n",
       " 'Give me the birth place of Frank Sinatra.',\n",
       " 'Is Christian Bale starring in Velvet Goldmine?',\n",
       " 'Who is the son of Sonny and Cher?',\n",
       " 'How many ethnic groups live in Slovenia?',\n",
       " 'What is the capital of Cameroon?',\n",
       " 'Was Natalie Portman born in the United States?',\n",
       " 'How many pages does War and Peace have?',\n",
       " 'Who is the oldest child of Meryl Streep?',\n",
       " 'Which television shows were created by Walt Disney?',\n",
       " 'What does IYCM stand for?',\n",
       " 'Which types of grapes grow in Oregon?',\n",
       " 'Was U.S. president Jackson involved in a war?',\n",
       " 'When was the Titanic completed?',\n",
       " 'Did Tesla win a nobel prize in physics?',\n",
       " 'How many states are in Mexico?',\n",
       " 'Which scientist is known for the Manhattan Project and the Nobel Peace Prize?',\n",
       " 'How much did the Lego Movie cost?',\n",
       " 'Who composed the music for Harold and Maude?',\n",
       " 'List all episodes of the first season of the HBO television series The Sopranos.',\n",
       " 'Which city has the least inhabitants?',\n",
       " 'Where is Syngman Rhee buried?',\n",
       " 'Does Neymar play for Real Madrid?',\n",
       " 'Who wrote the book The Pillars of the Earth?',\n",
       " 'Do Prince Harry and Prince William have the same parents?',\n",
       " 'Who was the doctoral supervisor of Albert Einstein?',\n",
       " 'Does Breaking Bad have more episodes than Game of Thrones?',\n",
       " 'Who was Vincent van Gogh inspired by?',\n",
       " 'Which building after the Burj Khalifa has the most floors?',\n",
       " 'What was the final result of the War of the Roses?',\n",
       " 'How much did Pulp Fiction cost?',\n",
       " 'Is proinsulin a protein?',\n",
       " 'Do Urdu and Persian have a common root?',\n",
       " 'Who is starring in Spanish movies produced by Benicio del Toro?',\n",
       " 'Is Lake Baikal bigger than the Great Bear Lake?',\n",
       " \"Show me all books in Asimov's Foundation series.\",\n",
       " 'Where was Bach born?',\n",
       " 'Which city has the oldest running metro?',\n",
       " 'Who designed the Brooklyn Bridge?',\n",
       " 'How many people live in Eurasia?',\n",
       " 'Who is the host of the BBC Wildlife Specials?',\n",
       " 'What is the total population of Melbourne, Florida?',\n",
       " 'What country is Mount Everest in?',\n",
       " 'To which artistic movement did the painter of The Three Dancers belong?',\n",
       " 'When did Operation Overlord commence?',\n",
       " 'What is the bridge with the longest span?',\n",
       " 'Is there a video game called Battle Chess?',\n",
       " 'Who was buried in the Great Pyramid of Giza?',\n",
       " 'Does the Ford Motor Company have a manufacturing plant in Malaysia?',\n",
       " 'Did Socrates influence Aristotle?',\n",
       " 'How many children did Benjamin Franklin have?',\n",
       " 'How tall is Michael Jordan?',\n",
       " 'In which UK city are the headquarters of the MI6?',\n",
       " 'Who created Family Guy?',\n",
       " 'In which city does the Chile Route 68 end?',\n",
       " 'Give me the grandchildren of Elvis Presley.',\n",
       " 'When did the Ming dynasty dissolve?',\n",
       " 'In which military conflicts did Lawrence of Arabia participate?',\n",
       " 'What is the timezone in San Pedro de Atacama?',\n",
       " 'Give me all books by William Goldman with more than 300 pages.',\n",
       " 'What did Bruce Carver die from?',\n",
       " 'Which subsidiary of Lufthansa serves both Dortmund and Berlin Tegel?',\n",
       " \"Does Abraham Lincoln's death place have a website?\",\n",
       " 'Did Elvis Presley have children?',\n",
       " 'Is Michelle Obama the wife of Barack Obama?',\n",
       " 'In which city does Sylvester Stallone live?',\n",
       " 'Which books by Kerouac were published by Viking Press?',\n",
       " 'Who wrote the song Hotel California?',\n",
       " 'What is the capital of Canada?',\n",
       " 'Who is the mayor of Tel Aviv?',\n",
       " 'What form of government does Russia have?',\n",
       " 'Show me the book that Muhammad Ali wrote.',\n",
       " 'Who was the first to climb Mount Everest?',\n",
       " 'How many languages are spoken in Colombia?',\n",
       " 'What is the currency of the Czech Republic?',\n",
       " 'Where in France is sparkling wine produced?',\n",
       " 'When did Boris Becker end his active career?',\n",
       " 'Which movies starring Mickey Rourke were directed by Guy Ritchie?',\n",
       " 'In which films did Julia Roberts as well as Richard Gere play?',\n",
       " \"Show me Hemingway's autobiography.\",\n",
       " 'How tall is Amazon Eve?',\n",
       " 'What are the five boroughs of New York?',\n",
       " 'Give me all Canadian Grunge record labels.',\n",
       " 'In which country does the Ganges start?',\n",
       " 'Who is the founder of Penguin Books?',\n",
       " 'Who wrote the Game of Thrones theme?',\n",
       " 'Who is the president of Eritrea?',\n",
       " 'In which city did John F. Kennedy die?',\n",
       " 'What is the highest mountain in Australia?',\n",
       " \"Who writes the Farmers' Almanac?\",\n",
       " 'Give me the currency of China.',\n",
       " 'Give me all Swedish oceanographers.',\n",
       " 'In which city are the headquarters of the United Nations?',\n",
       " 'Is Rita Wilson the wife of Tom Hanks?',\n",
       " 'In which countries do people speak Japanese?',\n",
       " \"Which of Tim Burton's films had the highest budget?\",\n",
       " 'Which museum in New York has the most visitors?',\n",
       " 'What was the first Queen album?',\n",
       " 'What was the first name of the band Queens of the Stone Age?',\n",
       " 'What was the last movie with Alec Guinness?',\n",
       " 'Give me all actors starring in Last Action Hero.',\n",
       " 'Who discovered Pluto?']"
      ]
     },
     "execution_count": 4,
     "metadata": {},
     "output_type": "execute_result"
    }
   ],
   "source": [
    "questions"
   ]
  },
  {
   "cell_type": "code",
   "execution_count": 6,
   "metadata": {},
   "outputs": [],
   "source": [
    "model = spacy.load(\"en_core_web_sm\")"
   ]
  },
  {
   "cell_type": "code",
   "execution_count": 9,
   "metadata": {},
   "outputs": [],
   "source": [
    "vectors = []\n",
    "for sentence in questions:\n",
    "    vectors.append(model(sentence.lower()).vector)"
   ]
  },
  {
   "cell_type": "code",
   "execution_count": 10,
   "metadata": {},
   "outputs": [],
   "source": [
    "from sklearn.cluster import KMeans\n",
    "import numpy as np\n"
   ]
  },
  {
   "cell_type": "code",
   "execution_count": 11,
   "metadata": {},
   "outputs": [],
   "source": [
    "kmeans = KMeans(n_clusters=10, random_state=0).fit(vectors)"
   ]
  },
  {
   "cell_type": "code",
   "execution_count": 13,
   "metadata": {},
   "outputs": [],
   "source": [
    "clusters = {}\n",
    "for idx,label in enumerate(kmeans.labels_):\n",
    "    if not label in clusters:\n",
    "        clusters[label] = []\n",
    "    clusters[label].append(questions[idx])"
   ]
  },
  {
   "cell_type": "code",
   "execution_count": 14,
   "metadata": {},
   "outputs": [
    {
     "data": {
      "text/plain": [
       "{0: ['List all boardgames by GMT.',\n",
       "  'Was Marc Chagall a jew?',\n",
       "  'Was Margaret Thatcher a chemist?',\n",
       "  'Is Christian Bale starring in Batman Begins?',\n",
       "  'Is Darth Vader Luke’s father?',\n",
       "  'Is Cola a beverage?',\n",
       "  'Are tree frogs a type of amphibian?',\n",
       "  'Is horse racing a sport?',\n",
       "  'Is the wife of president Obama called Michelle?',\n",
       "  'Is Frank Herbert still alive?',\n",
       "  'Was the wife of president Lincoln called Mary?',\n",
       "  'Did Arnold Schwarzenegger attend a university?',\n",
       "  \"Who was John F. Kennedy's vice president?\",\n",
       "  'Is Barack Obama a democrat?',\n",
       "  'List the children of Margaret Thatcher.',\n",
       "  'List all games by GMT.',\n",
       "  'Did Kaurismäki ever win the Grand Prix at Cannes?',\n",
       "  'Is Christian Bale starring in Velvet Goldmine?',\n",
       "  'Was Natalie Portman born in the United States?',\n",
       "  'Was U.S. president Jackson involved in a war?',\n",
       "  'Did Tesla win a nobel prize in physics?',\n",
       "  'Does Neymar play for Real Madrid?',\n",
       "  'Do Prince Harry and Prince William have the same parents?',\n",
       "  'Is proinsulin a protein?',\n",
       "  'Is Lake Baikal bigger than the Great Bear Lake?',\n",
       "  'Does the Ford Motor Company have a manufacturing plant in Malaysia?',\n",
       "  \"Does Abraham Lincoln's death place have a website?\",\n",
       "  'Is Michelle Obama the wife of Barack Obama?',\n",
       "  'Is Rita Wilson the wife of Tom Hanks?'],\n",
       " 6: ['Who developed Skype?',\n",
       "  'Which states border Illinois?',\n",
       "  'Who developed Minecraft?',\n",
       "  'Who created Goofy?',\n",
       "  'Who killed John Lennon?',\n",
       "  'Which actor played Chewbacca?',\n",
       "  'Which programming languages influenced Javascript?',\n",
       "  'Who played Agent Smith in Matrix?',\n",
       "  'Who produced films starring Natalie Portman?',\n",
       "  'Who discovered Ceres?',\n",
       "  'Who created Wikipedia?',\n",
       "  'Who created Batman?',\n",
       "  'Who developed Slack?',\n",
       "  'Who designed the Brooklyn Bridge?',\n",
       "  'Who created Family Guy?',\n",
       "  'Who discovered Pluto?'],\n",
       " 7: ['Which people were born in Heraklion?',\n",
       "  'Which movies starring Brad Pitt were directed by Guy Ritchie?',\n",
       "  'Which monarchs were married to a German?',\n",
       "  'Which organizations were founded in 1950?',\n",
       "  'Which spaceflights were launched from Baikonur?',\n",
       "  'Give all swimmers that were born in Moscow.',\n",
       "  'Which presidents were born in 1945?',\n",
       "  'Which volcanos in Japan erupted since 2000?',\n",
       "  'Give me all actors who were born in Paris after 1950.',\n",
       "  'Show me everyone who was born on Halloween.',\n",
       "  'Which beer originated in Ireland?',\n",
       "  'Which actors were born in Germany?',\n",
       "  'Which writers studied in Istanbul?',\n",
       "  'Which programming languages were influenced by Perl?',\n",
       "  'Which ships were called after Benjamin Franklin?',\n",
       "  'Which software has been developed by organizations founded in California?',\n",
       "  'Which television shows were created by John Cleese?',\n",
       "  'Which soccer players were born on Malta?',\n",
       "  'Which telecommunications organizations are located in Belgium?',\n",
       "  'Which holidays are celebrated around the world?',\n",
       "  'Which organizations were founded in 1930?',\n",
       "  'Which Greek parties are pro-European?',\n",
       "  'Which rockets were launched from Baikonur?',\n",
       "  'Which Chess players died in the same place they were born in?',\n",
       "  'Which languages are spoken in Estonia?',\n",
       "  'In which country is Mecca located?',\n",
       "  'Who played Gus Fring in Breaking Bad?',\n",
       "  'In which year was Rachel Stevens born?',\n",
       "  'In which programming language is GIMP written?',\n",
       "  \"Who composed the soundtrack for Cameron's Titanic?\",\n",
       "  'Which electronics companies were founded in Beijing?',\n",
       "  'What form of government is found in South Africa?',\n",
       "  'Which holidays are celebrated around the world?',\n",
       "  'Which television shows were created by Walt Disney?',\n",
       "  'Which types of grapes grow in Oregon?',\n",
       "  'Who composed the music for Harold and Maude?',\n",
       "  'Which books by Kerouac were published by Viking Press?',\n",
       "  'Which movies starring Mickey Rourke were directed by Guy Ritchie?'],\n",
       " 4: ['In which U.S. state is Area 51 located?',\n",
       "  'Which airports does Air China serve?',\n",
       "  'Which other weapons did the designer of the Uzi develop?',\n",
       "  'Which U.S. states are in the same timezone as Utah?',\n",
       "  'Which U.S. states possess gold minerals?',\n",
       "  'What movies does Jesse Eisenberg play in?',\n",
       "  'What kind of music did Lou Reed play?',\n",
       "  'In which films directed by Garry Marshall was Julia Roberts starring?',\n",
       "  'Which movies star both Liz Taylor and Richard Burton?',\n",
       "  'Which pope succeeded John Paul II?',\n",
       "  'To which countries does the Himalayan mountain system extend?',\n",
       "  'Which music albums contain the song Last Christmas?',\n",
       "  'In which city was the former Dutch queen Juliana buried?',\n",
       "  'Which U.S. states are in the same time zone as Utah?',\n",
       "  'In which U.S. state is Mount McKinley located?',\n",
       "  'Which films starring Clint Eastwood did he direct himself?',\n",
       "  'Which instruments does Cat Stevens play?',\n",
       "  'For which label did Elvis record his first album?',\n",
       "  'In which countries can you pay using the West African CFA franc?',\n",
       "  'Which weapons did Heckler & Koch develop?',\n",
       "  'What does ICRO stand for?',\n",
       "  'In which U.S. state is Fort Knox located?',\n",
       "  'Who wrote the book Les Piliers de la terre?',\n",
       "  'Which airports does Yeti Airlines serve?',\n",
       "  'Which ingredients do I need for carrot cake?',\n",
       "  'In which country does the Nile start?',\n",
       "  'In which state Penn State University is located?',\n",
       "  'Which awards did Douglas Hofstadter win?',\n",
       "  'Which river does the Brooklyn Bridge cross?',\n",
       "  'Which cities does the Weser flow through?',\n",
       "  'Which university did Angela Merkel attend?',\n",
       "  'Which species does an elephant belong?',\n",
       "  'In which ancient empire could you pay with cocoa beans?',\n",
       "  'Which country does the creator of Miffy come from?',\n",
       "  'From which region is the Melon de Bourgogne?',\n",
       "  'Which films did Stanley Kubrick direct?',\n",
       "  'In which city did Nikos Kazantzakis die?',\n",
       "  'In which country is the Limerick Lake?',\n",
       "  'In which time zone is Rome?',\n",
       "  'To which party does the mayor of Paris belong?',\n",
       "  'What does IYCM stand for?',\n",
       "  'To which artistic movement did the painter of The Three Dancers belong?',\n",
       "  'In which city does the Chile Route 68 end?',\n",
       "  'In which military conflicts did Lawrence of Arabia participate?',\n",
       "  'Which subsidiary of Lufthansa serves both Dortmund and Berlin Tegel?',\n",
       "  'In which city does Sylvester Stallone live?',\n",
       "  'What form of government does Russia have?',\n",
       "  'Show me the book that Muhammad Ali wrote.',\n",
       "  'In which films did Julia Roberts as well as Richard Gere play?',\n",
       "  'In which country does the Ganges start?',\n",
       "  'In which city did John F. Kennedy die?',\n",
       "  'In which countries do people speak Japanese?'],\n",
       " 3: ['Who is the mayor of New York City?',\n",
       "  'Who is the owner of Universal Studios?',\n",
       "  'Who created the comic Captain America?',\n",
       "  'Who wrote the book The pillars of the Earth?',\n",
       "  'Which state of the United States of America has the highest density?',\n",
       "  'Who is the daughter of Ingrid Bergman married to?',\n",
       "  'Who is the tallest player of the Atlanta Falcons?',\n",
       "  'What is the official color of the University of Oxford?',\n",
       "  'Who is the governor of Wyoming?',\n",
       "  'Who was president of Pakistan in 1978?',\n",
       "  'Who is the owner of Rolls-Royce?',\n",
       "  'Where is the residence of the prime minister of Spain?',\n",
       "  'Who is the manager of Real Madrid?',\n",
       "  'What is the birth name of Angela Merkel?',\n",
       "  'Who is the owner of Facebook?',\n",
       "  'What are the specialities of the UNC Health Care?',\n",
       "  'Who is the heaviest player of the Chicago Bulls?',\n",
       "  'Who was the pope that founded the Vatican Television?',\n",
       "  'Who is the king of the Netherlands?',\n",
       "  'What is the alma mater of the chancellor of Germany Angela Merkel?',\n",
       "  'Where is the birthplace of Goethe?',\n",
       "  'Who is the current federal minister of finance in Germany?',\n",
       "  \"Who is the coach of Ankara's ice hockey team?\",\n",
       "  'How large is the area of UK?',\n",
       "  'Who are the developers of DBpedia?',\n",
       "  'What is the location of the Houses of Parliament?',\n",
       "  'How much is the population of mexico city ?',\n",
       "  'Who was the first King of England?',\n",
       "  'Who is the editor of Forbes?',\n",
       "  'Who is 8th president of US?',\n",
       "  'Who developed the video game World of Warcraft?',\n",
       "  'What is the birth name of Adele?',\n",
       "  'What is the population of Cairo?',\n",
       "  'Who is the author of the interpretation of dreams?',\n",
       "  'Where is the origin of Carolina reaper?',\n",
       "  'Who was the wife of U.S. president Lincoln?',\n",
       "  'How many people live in the capital of Australia?',\n",
       "  'Who was the successor of John F. Kennedy?',\n",
       "  'Who is the mayor of Paris?',\n",
       "  'Who is the mayor of the capital of French Polynesia?',\n",
       "  'how much is the population densty rank of germany?',\n",
       "  'Who are the writers of the Wall album of Pink Floyd?',\n",
       "  'Who is the mayor of Rotterdam?',\n",
       "  'Who is the son of Sonny and Cher?',\n",
       "  'What is the capital of Cameroon?',\n",
       "  'Who is the oldest child of Meryl Streep?',\n",
       "  'Which scientist is known for the Manhattan Project and the Nobel Peace Prize?',\n",
       "  'Who wrote the book The Pillars of the Earth?',\n",
       "  'Who was the doctoral supervisor of Albert Einstein?',\n",
       "  'Who is starring in Spanish movies produced by Benicio del Toro?',\n",
       "  'Who is the host of the BBC Wildlife Specials?',\n",
       "  'What is the total population of Melbourne, Florida?',\n",
       "  'Who was buried in the Great Pyramid of Giza?',\n",
       "  'In which UK city are the headquarters of the MI6?',\n",
       "  'What is the timezone in San Pedro de Atacama?',\n",
       "  'Who wrote the song Hotel California?',\n",
       "  'What is the capital of Canada?',\n",
       "  'Who is the mayor of Tel Aviv?',\n",
       "  'Who was the first to climb Mount Everest?',\n",
       "  'What is the currency of the Czech Republic?',\n",
       "  'What are the five boroughs of New York?',\n",
       "  'Who is the founder of Penguin Books?',\n",
       "  'Who wrote the Game of Thrones theme?',\n",
       "  'Who is the president of Eritrea?',\n",
       "  'In which city are the headquarters of the United Nations?'],\n",
       " 9: ['Which countries have places with more than two caves?',\n",
       "  'Which state of the USA has the highest population density?',\n",
       "  'Which caves have more than 3 entrances?',\n",
       "  'Which bridges cross the Seine?',\n",
       "  'Which rivers flow into a German lake?',\n",
       "  'Which companies have more than 1 million employees?',\n",
       "  'Who produced the most films?',\n",
       "  'Which countries adopted the Euro?',\n",
       "  'Which country has the most official languages?',\n",
       "  'Which poet wrote the most books?',\n",
       "  'Which musician wrote the most books?',\n",
       "  'Who wrote The Hunger Games?',\n",
       "  'Which actor was casted in the most movies?',\n",
       "  'Which countries have more than two official languages?',\n",
       "  'Which countries have more than ten caves?',\n",
       "  'Which mountains are higher than the Nanga Parbat?',\n",
       "  'Which companies produce hovercrafts?',\n",
       "  'Which Indian company has the most employees?',\n",
       "  'Which city has the most inhabitants?',\n",
       "  'Which city has the least inhabitants?',\n",
       "  'Which building after the Burj Khalifa has the most floors?',\n",
       "  'Which city has the oldest running metro?',\n",
       "  \"Who writes the Farmers' Almanac?\",\n",
       "  \"Which of Tim Burton's films had the highest budget?\",\n",
       "  'Which museum in New York has the most visitors?'],\n",
       " 5: ['Where did Abraham Lincoln die?',\n",
       "  'When was the Statue of Liberty built?',\n",
       "  'Where did Hillel Slovak die?',\n",
       "  'Where was JFK assassinated?',\n",
       "  'When was Alberta admitted as province?',\n",
       "  'When were the Hells Angels founded?',\n",
       "  'When did Latvia join the EU?',\n",
       "  'Who has Tom Cruise been married to?',\n",
       "  'When was Olof Palme shot?',\n",
       "  'Was Sigmund Freud married?',\n",
       "  'Where is Sungkyunkwan University?',\n",
       "  'How often did Jane Fonda marry?',\n",
       "  'When was John Adams born?',\n",
       "  'Is James Bond married?',\n",
       "  'Who was married to president Chirac?',\n",
       "  'Did Che Guevara have children?',\n",
       "  'When was the Titanic completed?',\n",
       "  'Where is Syngman Rhee buried?',\n",
       "  'Who was Vincent van Gogh inspired by?',\n",
       "  'Where was Bach born?',\n",
       "  'When did Operation Overlord commence?',\n",
       "  'Did Socrates influence Aristotle?',\n",
       "  'When did the Ming dynasty dissolve?',\n",
       "  'What did Bruce Carver die from?',\n",
       "  'Did Elvis Presley have children?',\n",
       "  'Where in France is sparkling wine produced?'],\n",
       " 8: ['Give me all actors starring in movies directed by and starring William Shatner.',\n",
       "  'Give me all Danish films.',\n",
       "  'Give me the grandchildren of Bruce Lee.',\n",
       "  'Give me the Apollo 14 astronauts.',\n",
       "  'Give me a list of all trumpet players that were bandleaders.',\n",
       "  'Show me all museums in London.',\n",
       "  'Give me all writers that won the Nobel Prize in literature.',\n",
       "  'Show me all basketball players that are higher than 2 meters.',\n",
       "  'Give me all cosmonauts.',\n",
       "  'Give me all Swiss non-profit organizations.',\n",
       "  'Give me all Danish movies.',\n",
       "  'Give me all companies in Munich.',\n",
       "  'Give me the capitals of all countries that the Himalayas run through.',\n",
       "  'Give me all islands that belong to Japan.',\n",
       "  'Give me all Apollo 14 astronauts.',\n",
       "  'Give me all soccer clubs in the Premier League.',\n",
       "  'Give me all world heritage sites designated within the past two years.',\n",
       "  'Give me all Australian nonprofit organizations.',\n",
       "  'Give me all ESA astronauts.',\n",
       "  'Give me all federal chancellors of Germany.',\n",
       "  'Give me all actors who were born in Berlin.',\n",
       "  'Give me all the TV shows with Neil Patrick Harris.',\n",
       "  'Give me all Swedish holidays.',\n",
       "  'List all the musicals with music by Leonard Bernstein.',\n",
       "  'Give me all companies in the advertising industry.',\n",
       "  'Give me all Australian metalcore bands.',\n",
       "  'Give me all types of eating disorders.',\n",
       "  'Give me all books written by Danielle Steel.',\n",
       "  'Give me all libraries established earlier than 1400.',\n",
       "  'Give me all Methodist politicians.',\n",
       "  'Give me all actors called Baldwin.',\n",
       "  'Show me all songs from Bruce Springsteen released between 1980 and 1990.',\n",
       "  'Give me the birthdays of all actors of the television show Charmed.',\n",
       "  'Give me a list of all lakes in Denmark.',\n",
       "  'Show me all English Gothic buildings in Kent.',\n",
       "  'Give me all films produced by Hal Roach.',\n",
       "  'Give me a list of all bandleaders that play trumpet.',\n",
       "  'Give me all movies with Tom Cruise.',\n",
       "  'Give me all cities in New Jersey with more than 100000 inhabitants.',\n",
       "  'Give me all B-sides of the Ramones.',\n",
       "  'List the seven kings of Rome.',\n",
       "  'Give me all people that were born in Vienna and died in Berlin.',\n",
       "  'Show me all the breweries in Australia.',\n",
       "  'Give me all films produced by Steven Spielberg with a budget of at least $80 million.',\n",
       "  'Give me all soccer clubs in Spain.',\n",
       "  'Give me all breeds of the German Shepherd dog.',\n",
       "  'Give me all movies directed by Francis Ford Coppola.',\n",
       "  'Give me all launch pads operated by NASA.',\n",
       "  'List all the musicals with music by Elton John.',\n",
       "  'Give me the runtime of Toy Story.',\n",
       "  'Give me all actors starring in movies directed by William Shatner.',\n",
       "  'Give me all video games published by Mean Hamster Software.',\n",
       "  'Give me all members of Prodigy.',\n",
       "  'Give me the birth place of Frank Sinatra.',\n",
       "  \"Show me all books in Asimov's Foundation series.\",\n",
       "  'Give me the grandchildren of Elvis Presley.',\n",
       "  'Give me all books by William Goldman with more than 300 pages.',\n",
       "  \"Show me Hemingway's autobiography.\",\n",
       "  'Give me all Canadian Grunge record labels.',\n",
       "  'Give me the currency of China.',\n",
       "  'Give me all Swedish oceanographers.',\n",
       "  'Give me all actors starring in Last Action Hero.'],\n",
       " 2: ['What are the official languages of the Philippines?',\n",
       "  'What are the top-10 action role-playing video games according to IGN?',\n",
       "  'Show a list of soccer clubs that play in the Bundesliga.',\n",
       "  'What is the most frequent cause of death?',\n",
       "  'Who are the four youngest MVP basketball players?',\n",
       "  'What is the highest place of the Urals?',\n",
       "  'Where did the architect of the Eiffel Tower study?',\n",
       "  'What is the net income of Apple?',\n",
       "  'What is the largest metropolitan area in Washington state?',\n",
       "  \"What was Brazil's lowest rank in the FIFA World Ranking?\",\n",
       "  'What is the total amount of men and women serving in the FDNY?',\n",
       "  'What airlines are part of the SkyTeam alliance?',\n",
       "  'What other books have been written by the author of The Fault in Our Stars?',\n",
       "  'What is the highest mountain?',\n",
       "  'What is the longest river?',\n",
       "  'What is the smallest city by area in Germany?',\n",
       "  'What is the ruling party in Lisbon?',\n",
       "  \"How heavy is Jupiter's lightest moon?\",\n",
       "  'List all episodes of the first season of the HBO television series The Sopranos!',\n",
       "  'Does the new Battlestar Galactica series have more episodes than the old one?',\n",
       "  'What is the second highest mountain on Earth?',\n",
       "  'Is Egypts largest city also its capital?',\n",
       "  'What is the largest country in the world?',\n",
       "  'What is the largest city in america?',\n",
       "  'Was the Cuban Missile Crisis earlier than the Bay of Pigs Invasion?',\n",
       "  'What is the highest mountain in Saxony Germany?',\n",
       "  'What is the biggest stadium in Spain?',\n",
       "  'how much is the elevation of Düsseldorf Airport ?',\n",
       "  'when was the founding date of french fifth republic?',\n",
       "  'Who is the youngest Darts player?',\n",
       "  'When was the last episode of the TV series Friends aired?',\n",
       "  'how much is the total population of european union?',\n",
       "  'What is the last work of Dan Brown?',\n",
       "  'When was the death of Shakespeare?',\n",
       "  'What is the longest river in the world?',\n",
       "  'Does the Isar flow into a lake?',\n",
       "  'In what city is the Heineken brewery?',\n",
       "  'how big is the total area of North Rhine- Westphalia?',\n",
       "  \"What is Donald Trump's main business?\",\n",
       "  'When will start the final match of the football world cup 2018?',\n",
       "  'What is the highest mountain in Italy?',\n",
       "  'What is the official language of Suriname?',\n",
       "  'What is in a chocolate chip cookie?',\n",
       "  'How high is the lighthouse in Colombo?',\n",
       "  'What is the largest city in Australia?',\n",
       "  'Who is the tallest basketball player?',\n",
       "  'Who is the Formula 1 race driver with the most races?',\n",
       "  'What country is Sitecore from?',\n",
       "  'List all episodes of the first season of the HBO television series The Sopranos.',\n",
       "  'Does Breaking Bad have more episodes than Game of Thrones?',\n",
       "  'What was the final result of the War of the Roses?',\n",
       "  'Do Urdu and Persian have a common root?',\n",
       "  'What country is Mount Everest in?',\n",
       "  'What is the bridge with the longest span?',\n",
       "  'Is there a video game called Battle Chess?',\n",
       "  'When did Boris Becker end his active career?',\n",
       "  'What is the highest mountain in Australia?',\n",
       "  'What was the first Queen album?',\n",
       "  'What was the first name of the band Queens of the Stone Age?',\n",
       "  'What was the last movie with Alec Guinness?'],\n",
       " 1: ['How deep is Lake Placid?',\n",
       "  'Where do the Red Sox play?',\n",
       "  'How many films did Hal Roach produce?',\n",
       "  'How many movies did Park Chan-wook direct?',\n",
       "  'How many airlines are there?',\n",
       "  'How many inhabitants does Maribor have?',\n",
       "  'How many museums does Paris have?',\n",
       "  'How much carbs does peanut butter have?',\n",
       "  'How many employees does Google have?',\n",
       "  'How many missions does the Soyuz programme have?',\n",
       "  'How many films did Leonardo DiCaprio star in?',\n",
       "  'How many airlines are members of the Star Alliance?',\n",
       "  'How many politicians graduated from Columbia University?',\n",
       "  'How many children does Eddie Murphy have?',\n",
       "  'How many employees does IBM have?',\n",
       "  'How many programming languages are there?',\n",
       "  'How many people live in Poland?',\n",
       "  'How many Aldi stores are there?',\n",
       "  'How many theories did Albert Einstein come up with?',\n",
       "  'With how many countries Iran has borders?',\n",
       "  'how much is the population Iraq?',\n",
       "  'How many inhabitants does the largest city in Canada have?',\n",
       "  'How tall is Claudia Schiffer?',\n",
       "  'How high is the Yokohama Marine Tower?',\n",
       "  'How many languages are spoken in Turkmenistan?',\n",
       "  'How many ethnic groups live in Slovenia?',\n",
       "  'How many pages does War and Peace have?',\n",
       "  'How many states are in Mexico?',\n",
       "  'How much did the Lego Movie cost?',\n",
       "  'How much did Pulp Fiction cost?',\n",
       "  'How many people live in Eurasia?',\n",
       "  'How many children did Benjamin Franklin have?',\n",
       "  'How tall is Michael Jordan?',\n",
       "  'How many languages are spoken in Colombia?',\n",
       "  'How tall is Amazon Eve?']}"
      ]
     },
     "execution_count": 14,
     "metadata": {},
     "output_type": "execute_result"
    }
   ],
   "source": [
    "clusters"
   ]
  },
  {
   "cell_type": "code",
   "execution_count": 16,
   "metadata": {},
   "outputs": [
    {
     "name": "stdout",
     "output_type": "stream",
     "text": [
      "Grupo 0:\n",
      "['List all boardgames by GMT.', 'Was Marc Chagall a jew?', 'Was Margaret Thatcher a chemist?', 'Is Christian Bale starring in Batman Begins?', 'Is Darth Vader Luke’s father?']\n",
      "Grupo 6:\n",
      "['Who developed Skype?', 'Which states border Illinois?', 'Who developed Minecraft?', 'Who created Goofy?', 'Who killed John Lennon?']\n",
      "Grupo 7:\n",
      "['Which people were born in Heraklion?', 'Which movies starring Brad Pitt were directed by Guy Ritchie?', 'Which monarchs were married to a German?', 'Which organizations were founded in 1950?', 'Which spaceflights were launched from Baikonur?']\n",
      "Grupo 4:\n",
      "['In which U.S. state is Area 51 located?', 'Which airports does Air China serve?', 'Which other weapons did the designer of the Uzi develop?', 'Which U.S. states are in the same timezone as Utah?', 'Which U.S. states possess gold minerals?']\n",
      "Grupo 3:\n",
      "['Who is the mayor of New York City?', 'Who is the owner of Universal Studios?', 'Who created the comic Captain America?', 'Who wrote the book The pillars of the Earth?', 'Which state of the United States of America has the highest density?']\n",
      "Grupo 9:\n",
      "['Which countries have places with more than two caves?', 'Which state of the USA has the highest population density?', 'Which caves have more than 3 entrances?', 'Which bridges cross the Seine?', 'Which rivers flow into a German lake?']\n",
      "Grupo 5:\n",
      "['Where did Abraham Lincoln die?', 'When was the Statue of Liberty built?', 'Where did Hillel Slovak die?', 'Where was JFK assassinated?', 'When was Alberta admitted as province?']\n",
      "Grupo 8:\n",
      "['Give me all actors starring in movies directed by and starring William Shatner.', 'Give me all Danish films.', 'Give me the grandchildren of Bruce Lee.', 'Give me the Apollo 14 astronauts.', 'Give me a list of all trumpet players that were bandleaders.']\n",
      "Grupo 2:\n",
      "['What are the official languages of the Philippines?', 'What are the top-10 action role-playing video games according to IGN?', 'Show a list of soccer clubs that play in the Bundesliga.', 'What is the most frequent cause of death?', 'Who are the four youngest MVP basketball players?']\n",
      "Grupo 1:\n",
      "['How deep is Lake Placid?', 'Where do the Red Sox play?', 'How many films did Hal Roach produce?', 'How many movies did Park Chan-wook direct?', 'How many airlines are there?']\n"
     ]
    }
   ],
   "source": [
    "for group in clusters:\n",
    "    print(f\"Grupo {group}:\")\n",
    "    print(clusters[group][0:5])"
   ]
  },
  {
   "cell_type": "code",
   "execution_count": null,
   "metadata": {},
   "outputs": [],
   "source": [
    "python -m spacy init vectors pt-br skip_s100.zip pt_br\n",
    "python -m spacy init vectors language vectors_to_load name_output_model\n",
    "\n",
    "DB.DBA.TTLP_MT (file_to_string_output ('drugsFull.nt'), '', '<http://localhost:8890/DAV/drugs>',512);"
   ]
  },
  {
   "cell_type": "code",
   "execution_count": null,
   "metadata": {},
   "outputs": [],
   "source": []
  }
 ],
 "metadata": {
  "kernelspec": {
   "display_name": "Python 3.9.7 ('base')",
   "language": "python",
   "name": "python3"
  },
  "language_info": {
   "codemirror_mode": {
    "name": "ipython",
    "version": 3
   },
   "file_extension": ".py",
   "mimetype": "text/x-python",
   "name": "python",
   "nbconvert_exporter": "python",
   "pygments_lexer": "ipython3",
   "version": "3.9.12"
  },
  "orig_nbformat": 4,
  "vscode": {
   "interpreter": {
    "hash": "c1202d1414bc2129bb3bd955f9f4a76620d64f935936356d2f69a5c5335b3fff"
   }
  }
 },
 "nbformat": 4,
 "nbformat_minor": 2
}
